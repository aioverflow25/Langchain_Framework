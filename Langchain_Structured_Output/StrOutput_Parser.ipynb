{
 "cells": [
  {
   "cell_type": "code",
   "execution_count": 1,
   "metadata": {},
   "outputs": [
    {
     "data": {
      "text/plain": [
       "True"
      ]
     },
     "execution_count": 1,
     "metadata": {},
     "output_type": "execute_result"
    }
   ],
   "source": [
    "from langchain_groq import ChatGroq\n",
    "from dotenv import load_dotenv\n",
    "import os\n",
    "load_dotenv()"
   ]
  },
  {
   "cell_type": "code",
   "execution_count": 2,
   "metadata": {},
   "outputs": [],
   "source": [
    "from langchain_core.prompts import PromptTemplate"
   ]
  },
  {
   "cell_type": "code",
   "execution_count": 3,
   "metadata": {},
   "outputs": [],
   "source": [
    "model = ChatGroq(\n",
    "    model=\"gemma2-9b-it\"\n",
    ")"
   ]
  },
  {
   "cell_type": "code",
   "execution_count": 5,
   "metadata": {},
   "outputs": [],
   "source": [
    "template1 = PromptTemplate(\n",
    "    template=\"Write a report in 200 words on {topic}\",\n",
    "    input_variables=['topic']\n",
    ")\n",
    "template2 = PromptTemplate(\n",
    "    template=\"Give summary in 4 lines on {text}\",\n",
    "    input_variables=['text']\n",
    ")"
   ]
  },
  {
   "cell_type": "code",
   "execution_count": 6,
   "metadata": {},
   "outputs": [
    {
     "name": "stdout",
     "output_type": "stream",
     "text": [
      "## The Art and Science of Jumping\n",
      "\n",
      "Jumping, a fundamental human movement, involves a complex interplay of biomechanics and muscle coordination. It is essential for activities ranging from walking and running to sports like basketball and gymnastics. \n",
      "\n",
      "The jumping process begins with a preparatory phase, where the body absorbs impact and converts it into elastic potential energy stored in muscles and tendons. This energy is then released explosively during the propulsion phase, propelling the body upward.\n",
      "\n",
      "Several factors influence jumping height, including:\n",
      "\n",
      "* **Strength and Power:** Powerful leg muscles, particularly the quads, hamstrings, and glutes, are crucial for generating the force needed for takeoff.\n",
      "* **Flexibility:** Adequate ankle, knee, and hip flexibility allows for optimal range of motion and efficient energy transfer.\n",
      "* **Technique:** Proper jumping technique, including a crouched starting position and a well-timed push-off, maximizes jump height.\n",
      "* **Coordination:** Synchronization of muscle activation is essential for smooth and powerful movement.\n",
      "\n",
      "Jumping performance can be enhanced through targeted training programs focusing on strength, power, flexibility, and technique. This report highlights the importance of understanding the biomechanics and training principles underlying this fundamental human movement. \n",
      "\n",
      "\n",
      "\n"
     ]
    }
   ],
   "source": [
    "chain = template1 | model\n",
    "result1 = chain.invoke({'topic':'Jumping'})\n",
    "print(result1.content)"
   ]
  },
  {
   "cell_type": "code",
   "execution_count": 8,
   "metadata": {},
   "outputs": [
    {
     "name": "stdout",
     "output_type": "stream",
     "text": [
      "Jumping is a complex movement requiring a balance of biomechanics and muscle control.  It involves storing energy during the preparatory phase and releasing it explosively for propulsion.  Factors like leg strength, flexibility, technique, and coordination all influence jump height.  Targeted training programs can enhance jumping performance by addressing these key elements.  \n",
      "\n"
     ]
    }
   ],
   "source": [
    "chain1 = template2 | model\n",
    "result2 = chain1.invoke({'text':result1.content})\n",
    "print(result2.content)"
   ]
  },
  {
   "cell_type": "code",
   "execution_count": 9,
   "metadata": {},
   "outputs": [],
   "source": [
    "from langchain_core.output_parsers import StrOutputParser"
   ]
  },
  {
   "cell_type": "code",
   "execution_count": 10,
   "metadata": {},
   "outputs": [],
   "source": [
    "parser = StrOutputParser()"
   ]
  },
  {
   "cell_type": "code",
   "execution_count": 11,
   "metadata": {},
   "outputs": [],
   "source": [
    "final_chain = template1 | model | parser | template2 | model | parser"
   ]
  },
  {
   "cell_type": "code",
   "execution_count": 12,
   "metadata": {},
   "outputs": [
    {
     "name": "stdout",
     "output_type": "stream",
     "text": [
      "Black holes are regions of extreme gravity where nothing, not even light, can escape. \n",
      "Formed from collapsing stars, they possess immense density and an \"event horizon\" marking the point of no return. \n",
      "Invisible themselves, their gravitational pull influences surrounding stars and gas, revealing their presence.\n",
      "Studying black holes helps us understand gravity and the evolution of galaxies.  \n",
      "\n"
     ]
    }
   ],
   "source": [
    "result = final_chain.invoke({'topic':'Black_Hole'})\n",
    "print(result)"
   ]
  },
  {
   "cell_type": "code",
   "execution_count": null,
   "metadata": {},
   "outputs": [],
   "source": []
  }
 ],
 "metadata": {
  "kernelspec": {
   "display_name": "vnv",
   "language": "python",
   "name": "python3"
  },
  "language_info": {
   "codemirror_mode": {
    "name": "ipython",
    "version": 3
   },
   "file_extension": ".py",
   "mimetype": "text/x-python",
   "name": "python",
   "nbconvert_exporter": "python",
   "pygments_lexer": "ipython3",
   "version": "3.10.16"
  }
 },
 "nbformat": 4,
 "nbformat_minor": 2
}
