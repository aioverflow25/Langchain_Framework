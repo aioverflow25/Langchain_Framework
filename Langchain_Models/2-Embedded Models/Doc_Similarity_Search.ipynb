{
 "cells": [
  {
   "cell_type": "code",
   "execution_count": 2,
   "metadata": {},
   "outputs": [],
   "source": [
    "from langchain.embeddings import HuggingFaceEmbeddings\n",
    "from dotenv import load_dotenv\n",
    "from huggingface_hub import login\n",
    "import os\n",
    "from sklearn.metrics.pairwise import cosine_similarity\n",
    "load_dotenv()\n",
    "login(token=os.getenv(\"HUGGINGFACEHUB_ACCESS_TOKEN\"))\n",
    "import numpy as np"
   ]
  },
  {
   "cell_type": "code",
   "execution_count": 3,
   "metadata": {},
   "outputs": [],
   "source": [
    "docs = [\n",
    "\"Virat Kohli is an aggressive batsman known for his consistency and leadership as India's former captain.\",\n",
    "\"Sachin Tendulkar, the 'God of Cricket,' holds numerous records, including 100 international centuries.\",\n",
    "\"MS Dhoni is a legendary wicketkeeper-batsman famous for his calmness and finishing skills.\",\n",
    "\"Rohit Sharma, known as the 'Hitman,' is the only player to score three double centuries in ODIs.\",\n",
    "\"Kapil Dev led India to its first World Cup victory in 1983 and was an exceptional all-rounder.\"\n",
    "]"
   ]
  },
  {
   "cell_type": "code",
   "execution_count": 4,
   "metadata": {},
   "outputs": [
    {
     "name": "stderr",
     "output_type": "stream",
     "text": [
      "C:\\Users\\amans\\AppData\\Local\\Temp\\ipykernel_20528\\323160131.py:1: LangChainDeprecationWarning: The class `HuggingFaceEmbeddings` was deprecated in LangChain 0.2.2 and will be removed in 1.0. An updated version of the class exists in the :class:`~langchain-huggingface package and should be used instead. To use it run `pip install -U :class:`~langchain-huggingface` and import as `from :class:`~langchain_huggingface import HuggingFaceEmbeddings``.\n",
      "  embedding = HuggingFaceEmbeddings(model_name=\"sentence-transformers/all-MiniLM-L6-v2\")\n"
     ]
    }
   ],
   "source": [
    "embedding = HuggingFaceEmbeddings(model_name=\"sentence-transformers/all-MiniLM-L6-v2\")"
   ]
  },
  {
   "cell_type": "code",
   "execution_count": 5,
   "metadata": {},
   "outputs": [],
   "source": [
    "query = \"Tell me about virat kohli\""
   ]
  },
  {
   "cell_type": "code",
   "execution_count": 6,
   "metadata": {},
   "outputs": [],
   "source": [
    "doc_embeddings = embedding.embed_documents(docs)"
   ]
  },
  {
   "cell_type": "code",
   "execution_count": 7,
   "metadata": {},
   "outputs": [],
   "source": [
    "query_embedding = embedding.embed_query(query)"
   ]
  },
  {
   "cell_type": "code",
   "execution_count": 10,
   "metadata": {},
   "outputs": [],
   "source": [
    "scores = cosine_similarity([query_embedding],doc_embeddings)[0]"
   ]
  },
  {
   "cell_type": "code",
   "execution_count": 15,
   "metadata": {},
   "outputs": [
    {
     "data": {
      "text/plain": [
       "[(0, np.float64(0.7572460129353559)),\n",
       " (1, np.float64(0.45868292635658686)),\n",
       " (2, np.float64(0.42937833189545427)),\n",
       " (3, np.float64(0.4205057865646967)),\n",
       " (4, np.float64(0.4163688150944877))]"
      ]
     },
     "execution_count": 15,
     "metadata": {},
     "output_type": "execute_result"
    }
   ],
   "source": [
    "list2 = list(enumerate(scores))\n",
    "list2"
   ]
  },
  {
   "cell_type": "code",
   "execution_count": 19,
   "metadata": {},
   "outputs": [],
   "source": [
    "index,score = sorted(list2,key=lambda x:x[1])[-1]"
   ]
  },
  {
   "cell_type": "code",
   "execution_count": 20,
   "metadata": {},
   "outputs": [
    {
     "name": "stdout",
     "output_type": "stream",
     "text": [
      "Tell me about virat kohli\n",
      "Virat Kohli is an aggressive batsman known for his consistency and leadership as India's former captain.\n",
      "Similarity score is 0.7572460129353559\n"
     ]
    }
   ],
   "source": [
    "print(query)\n",
    "print(docs[index])\n",
    "print(f\"Similarity score is {score}\")"
   ]
  },
  {
   "cell_type": "code",
   "execution_count": 28,
   "metadata": {},
   "outputs": [],
   "source": [
    "def run():\n",
    "    query = input(\"About ??\")\n",
    "    query_embed = embedding.embed_query(query)\n",
    "    scores = cosine_similarity([query_embed],doc_embeddings)[0]\n",
    "    list2 = list(enumerate(scores))\n",
    "    index,score = sorted(list2,key=lambda x:x[1])[-1]\n",
    "    print(query)\n",
    "    print(docs[index])\n",
    "    print(f\"Similarity score is {score}\")"
   ]
  },
  {
   "cell_type": "code",
   "execution_count": 29,
   "metadata": {},
   "outputs": [
    {
     "name": "stdout",
     "output_type": "stream",
     "text": [
      "Rohit Sharma\n",
      "Rohit Sharma, known as the 'Hitman,' is the only player to score three double centuries in ODIs.\n",
      "Similarity score is 0.5969030596942669\n"
     ]
    }
   ],
   "source": [
    "run()"
   ]
  },
  {
   "cell_type": "code",
   "execution_count": null,
   "metadata": {},
   "outputs": [],
   "source": []
  }
 ],
 "metadata": {
  "kernelspec": {
   "display_name": "vnv",
   "language": "python",
   "name": "python3"
  },
  "language_info": {
   "codemirror_mode": {
    "name": "ipython",
    "version": 3
   },
   "file_extension": ".py",
   "mimetype": "text/x-python",
   "name": "python",
   "nbconvert_exporter": "python",
   "pygments_lexer": "ipython3",
   "version": "3.10.16"
  }
 },
 "nbformat": 4,
 "nbformat_minor": 2
}
