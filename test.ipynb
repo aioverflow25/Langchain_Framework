{
 "cells": [
  {
   "cell_type": "code",
   "execution_count": 18,
   "metadata": {},
   "outputs": [],
   "source": [
    "from langchain_huggingface import ChatHuggingFace, HuggingFaceEndpoint"
   ]
  },
  {
   "cell_type": "code",
   "execution_count": 19,
   "metadata": {},
   "outputs": [],
   "source": [
    "from dotenv import load_dotenv\n",
    "import os\n",
    "load_dotenv()\n",
    "from huggingface_hub import login\n",
    "login(token = os.getenv(\"HUGGINGFACEHUB_ACCESS_TOKEN\"))"
   ]
  },
  {
   "cell_type": "code",
   "execution_count": 36,
   "metadata": {},
   "outputs": [
    {
     "data": {
      "text/plain": [
       "HuggingFaceEndpoint(repo_id='TinyLlama/TinyLlama-1.1B-Chat-v1.0', stop_sequences=[], server_kwargs={}, model_kwargs={}, model='TinyLlama/TinyLlama-1.1B-Chat-v1.0', client=<InferenceClient(model='TinyLlama/TinyLlama-1.1B-Chat-v1.0', timeout=120)>, async_client=<InferenceClient(model='TinyLlama/TinyLlama-1.1B-Chat-v1.0', timeout=120)>, task='text-generation')"
      ]
     },
     "execution_count": 36,
     "metadata": {},
     "output_type": "execute_result"
    }
   ],
   "source": [
    "llm = HuggingFaceEndpoint(\n",
    "    repo_id=\"TinyLlama/TinyLlama-1.1B-Chat-v1.0\",\n",
    "    task=\"text-generation\"\n",
    ")\n",
    "llm"
   ]
  },
  {
   "cell_type": "code",
   "execution_count": 37,
   "metadata": {},
   "outputs": [],
   "source": [
    "model = ChatHuggingFace(llm=llm)"
   ]
  },
  {
   "cell_type": "code",
   "execution_count": 38,
   "metadata": {},
   "outputs": [],
   "source": [
    "result = model.invoke(\"What is difference betweern LLM and chat models ?\")"
   ]
  },
  {
   "cell_type": "code",
   "execution_count": 39,
   "metadata": {},
   "outputs": [
    {
     "name": "stdout",
     "output_type": "stream",
     "text": [
      "LLM (Laigu Npyra-Madariaga) and chat models are both types of chatbots that perform intelligent conversations with users, but their differences are significant. The main difference is how they collect user data and handle it.\n",
      "\n",
      "LLMs are designed to anticipate user queries and provide helpful information. They work on a learning model, where the bot collects data from the natural language inputs given by users and uses it to deal with new queries efficiently. Out-of-the-box, they have access to an immense amount of data, making it difficult for bots like LLMs to decide on the best response.\n",
      "\n",
      "On the other hand, chat models deal with conversational speech and often take a more verbose approach. Chatbots work with natural language prompts entered by users to handle customer inquiries and respond accurately and quickly. They use a combination of machine learning, natural language processing (NLP), and expressive language to handle user conversations. Chatbots are not designed to make decisions on their own but rather serve as a portal with which users interact.\n",
      "\n",
      "However, there are some similarities between these models too. Both types of chatbots work well for common customer inquiries, but LLMs can adapt to new queries much more quickly than chat models. LLMs learn from user feedback and can anticipate user queries, leading to more personalized customer experiences. Chat models, on the other hand, tend to be flexible and prone to handling a range of unique customer inquiries.\n",
      "\n",
      "Overall, LLMs and chat models have their unique strengths, and each model serves different requirements. Manufacturers and users must rely on research, expertise, and data to determine the most efficient and effective chatbot approach.\n"
     ]
    }
   ],
   "source": [
    "print(result.content)"
   ]
  }
 ],
 "metadata": {
  "kernelspec": {
   "display_name": "vnv",
   "language": "python",
   "name": "python3"
  },
  "language_info": {
   "codemirror_mode": {
    "name": "ipython",
    "version": 3
   },
   "file_extension": ".py",
   "mimetype": "text/x-python",
   "name": "python",
   "nbconvert_exporter": "python",
   "pygments_lexer": "ipython3",
   "version": "3.10.16"
  }
 },
 "nbformat": 4,
 "nbformat_minor": 2
}
